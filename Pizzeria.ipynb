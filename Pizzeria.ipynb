{
  "nbformat": 4,
  "nbformat_minor": 0,
  "metadata": {
    "colab": {
      "provenance": [],
      "mount_file_id": "https://github.com/RanielSosa/Pizzeria-Bella-Napoli/blob/main/Pizzeria.ipynb",
      "authorship_tag": "ABX9TyPuHhLFNSvqrhRy8zAKMIyB",
      "include_colab_link": true
    },
    "kernelspec": {
      "name": "python3",
      "display_name": "Python 3"
    },
    "language_info": {
      "name": "python"
    }
  },
  "cells": [
    {
      "cell_type": "markdown",
      "metadata": {
        "id": "view-in-github",
        "colab_type": "text"
      },
      "source": [
        "<a href=\"https://colab.research.google.com/github/RanielSosa/Pizzeria-Bella-Napoli/blob/main/Pizzeria.ipynb\" target=\"_parent\"><img src=\"https://colab.research.google.com/assets/colab-badge.svg\" alt=\"Open In Colab\"/></a>"
      ]
    },
    {
      "cell_type": "code",
      "execution_count": 17,
      "metadata": {
        "id": "VafBafOcoA00",
        "colab": {
          "base_uri": "https://localhost:8080/"
        },
        "outputId": "ff789f2e-2378-45d3-b7e2-1fcb8e18330c"
      },
      "outputs": [
        {
          "output_type": "stream",
          "name": "stdout",
          "text": [
            "Que tipo de Pizza quiere:\n",
            "1 - Vegetariana\n",
            "2 - No Vegetariana \n",
            "E - Para Salir\n",
            "1\n",
            "Seleccionar el ingrediente Vegetariano adicional:\n",
            "1 - Pimiento\n",
            "2 - Tofu\n",
            "3 - Hongos\n",
            "4 - Margarita\n",
            "1\n",
            "Te gustó nuestr12a pizza?\n",
            "Quieres una pizza adicional?\n",
            "-------------- Nueva Orden. --------------\n",
            "Que tipo de Pizza quiere:\n",
            "1 - Vegetariana\n",
            "2 - No Vegetariana \n",
            "E - Para Salir\n",
            "e\n",
            "  Tipo de Pizza Ingredientes Elegidos Base Valor Pizza          Fecha\n",
            "0   Vegetariana              Pimiento    5           5  03 July, 2021\n"
          ]
        }
      ],
      "source": [
        "import pandas as pd\n",
        "df=pd.DataFrame()\n",
        "df = pd.DataFrame(columns=['Tipo de Pizza', 'Ingredientes Elegidos','Base','Valor Pizza','Fecha'])\n",
        "tipodepizza=input(\"Que tipo de Pizza quiere:\\n1 - Vegetariana\\n2 - No Vegetariana \\nE - Para Salir\\n\")\n",
        "resp=tipodepizza.lower()\n",
        "while resp !='e':  \n",
        "    if(tipodepizza=='1'):#Entro a la 121opcion de pizza vegetariana\n",
        "        ingrediente=input(\"Seleccionar el ingrediente Vegetariano adicional:\\n1 - Pimiento\\n2 - Tofu\\n3 - Hongos\\n4 - Margarita\\n\")\n",
        "        if(ingrediente=='1'):\n",
        "          df=df.append({'Tipo de Pizza':'Vegetariana','Ingredientes Elegidos':'Pimiento','Base':5,'Valor Pizza':5}, ignore_index=True)\n",
        "        if(ingrediente=='2'):\n",
        "          df=df.append({'Tipo de Pizza':'Vegetariana','Ingredientes Elegidos':'Tofu','Base':5,'Valor Pizza':8}, ignore_index=True)      \n",
        "        if(ingrediente=='3'):\n",
        "          df=df.append({'Tipo de Pizza':'Vegetariana','Ingredientes Elegidos':'Hongos','Base':5,'Valor Pizza':7}, ignore_index=True)\n",
        "        if(ingrediente=='4'):\n",
        "          df=df.append({'Tipo de Pizza':'Vegetariana','Ingredientes Elegidos':'Margarita','Base':5,'Valor Pizza':12}, ignore_index=True)  \n",
        "\n",
        "    if(tipodepizza=='2'): #Entro a la opcion de pizza no vegetariana\n",
        "        ingrediente=input(\"Seleccionar el ingrediente No Vegetariano adicional:\\n1 - Peperoni\\n2 - Jamón\\n3 - Salmon\\n4 - Pollo\\n5 - Mexicana\\n\")\n",
        "        if(ingrediente=='1'):\n",
        "          df=df.append({'Tipo de Pizza':'No Vegetariana','Ingredientes Elegidos':'Peperoni','Base':5,'Valor Pizza':3}, ignore_index=True)\n",
        "        if(ingrediente=='2'):\n",
        "          df=df.append({'Tipo de Pizza':'No Vegetariana','Ingredientes Elegidos':'Jamón','Base':5,'Valor Pizza':6}, ignore_index=True)\n",
        "        if(ingrediente=='3'):\n",
        "          df=df.append({'Tipo de Pizza':'No Vegetariana','Ingredientes Elegidos':'Salmon','Base':5,'Valor Pizza':3}, ignore_index=True)        \n",
        "        if(ingrediente=='4'):\n",
        "          df=df.append({'Tipo de Pizza':'No Vegetariana','Ingredientes Elegidos':'Pollo','Base':5,'Valor Pizza':10}, ignore_index=True)        \n",
        "        if(ingrediente=='5'):\n",
        "          df=df.append({'Tipo de Pizza':'No Vegetariana','Ingredientes Elegidos':'Mexicana','Base':5,'Valor Pizza':12}, ignore_index=True)\n",
        "          \n",
        "    print(\"Te gustó nuestr12a pizza?\\nQuieres una pizza adicional?\\n-------------- Nueva Orden. --------------\")\n",
        "    tipodepizza=input(\"Que tipo de Pizza quiere:\\n1 - Vegetariana\\n2 - No Vegetariana \\nE - Para Salir\\n\")\n",
        "    resp=tipodepizza.lower()\n",
        "\n",
        "print(df)"
      ]
    },
    {
      "cell_type": "code",
      "source": [
        "# Export DataFrame to csv File\n",
        "df.to_csv(path_or_buf='/content/drive/MyDrive/Colab Notebooks/Docs/PizzeriaCompras.csv',index = False)"
      ],
      "metadata": {
        "id": "B9cCGcngduEA"
      },
      "execution_count": 9,
      "outputs": []
    },
    {
      "cell_type": "code",
      "source": [
        "import pandas as pd\n",
        "ruta='/content/drive/MyDrive/Colab Notebooks/Docs/PizzeriaCompras.csv'\n",
        "df=pd.read_csv(ruta)"
      ],
      "metadata": {
        "id": "bc_bx56secYO"
      },
      "execution_count": 11,
      "outputs": []
    },
    {
      "cell_type": "code",
      "source": [
        "Cantidad_Vendida=df.groupby(['Tipo de Pizza','Ingredientes Elegidos'])[['Valor Pizza']].count()\n",
        "Total_Individual=df.groupby(['Tipo de Pizza','Ingredientes Elegidos'])[['Valor Pizza','Base']].sum()\n"
      ],
      "metadata": {
        "id": "AfW0QyOyvGIU"
      },
      "execution_count": 12,
      "outputs": []
    },
    {
      "cell_type": "markdown",
      "source": [
        "##Pizzas mas vendidas"
      ],
      "metadata": {
        "id": "jGor5yvyHmyz"
      }
    },
    {
      "cell_type": "code",
      "source": [
        "sorteado=Cantidad_Vendida.sort_values(\"Valor Pizza\", ascending=False)\n",
        "Total_Individual.sort_values(\"Valor Pizza\", ascending=False)"
      ],
      "metadata": {
        "colab": {
          "base_uri": "https://localhost:8080/",
          "height": 363
        },
        "id": "17l1sHawEwJm",
        "outputId": "81fdccf0-6d06-4b0e-e6db-583cd4c7930a"
      },
      "execution_count": 13,
      "outputs": [
        {
          "output_type": "execute_result",
          "data": {
            "text/plain": [
              "                                      Valor Pizza  Base\n",
              "Tipo de Pizza  Ingredientes Elegidos                   \n",
              "Vegetariana    Tofu                           128    80\n",
              "No Vegetariana Jamón                          126   105\n",
              "Vegetariana    Margarita                      108    45\n",
              "               Hongos                          91    65\n",
              "No Vegetariana Peperoni                        63   105\n",
              "               Mexicana                        48    20\n",
              "               Salmon                          42    70\n",
              "               Pollo                           40    20\n",
              "Vegetariana    Pimiento                        40    40"
            ],
            "text/html": [
              "\n",
              "  <div id=\"df-d3b544fa-60d0-43f3-9d1b-56c3560de55f\">\n",
              "    <div class=\"colab-df-container\">\n",
              "      <div>\n",
              "<style scoped>\n",
              "    .dataframe tbody tr th:only-of-type {\n",
              "        vertical-align: middle;\n",
              "    }\n",
              "\n",
              "    .dataframe tbody tr th {\n",
              "        vertical-align: top;\n",
              "    }\n",
              "\n",
              "    .dataframe thead th {\n",
              "        text-align: right;\n",
              "    }\n",
              "</style>\n",
              "<table border=\"1\" class=\"dataframe\">\n",
              "  <thead>\n",
              "    <tr style=\"text-align: right;\">\n",
              "      <th></th>\n",
              "      <th></th>\n",
              "      <th>Valor Pizza</th>\n",
              "      <th>Base</th>\n",
              "    </tr>\n",
              "    <tr>\n",
              "      <th>Tipo de Pizza</th>\n",
              "      <th>Ingredientes Elegidos</th>\n",
              "      <th></th>\n",
              "      <th></th>\n",
              "    </tr>\n",
              "  </thead>\n",
              "  <tbody>\n",
              "    <tr>\n",
              "      <th>Vegetariana</th>\n",
              "      <th>Tofu</th>\n",
              "      <td>128</td>\n",
              "      <td>80</td>\n",
              "    </tr>\n",
              "    <tr>\n",
              "      <th>No Vegetariana</th>\n",
              "      <th>Jamón</th>\n",
              "      <td>126</td>\n",
              "      <td>105</td>\n",
              "    </tr>\n",
              "    <tr>\n",
              "      <th rowspan=\"2\" valign=\"top\">Vegetariana</th>\n",
              "      <th>Margarita</th>\n",
              "      <td>108</td>\n",
              "      <td>45</td>\n",
              "    </tr>\n",
              "    <tr>\n",
              "      <th>Hongos</th>\n",
              "      <td>91</td>\n",
              "      <td>65</td>\n",
              "    </tr>\n",
              "    <tr>\n",
              "      <th rowspan=\"4\" valign=\"top\">No Vegetariana</th>\n",
              "      <th>Peperoni</th>\n",
              "      <td>63</td>\n",
              "      <td>105</td>\n",
              "    </tr>\n",
              "    <tr>\n",
              "      <th>Mexicana</th>\n",
              "      <td>48</td>\n",
              "      <td>20</td>\n",
              "    </tr>\n",
              "    <tr>\n",
              "      <th>Salmon</th>\n",
              "      <td>42</td>\n",
              "      <td>70</td>\n",
              "    </tr>\n",
              "    <tr>\n",
              "      <th>Pollo</th>\n",
              "      <td>40</td>\n",
              "      <td>20</td>\n",
              "    </tr>\n",
              "    <tr>\n",
              "      <th>Vegetariana</th>\n",
              "      <th>Pimiento</th>\n",
              "      <td>40</td>\n",
              "      <td>40</td>\n",
              "    </tr>\n",
              "  </tbody>\n",
              "</table>\n",
              "</div>\n",
              "      <button class=\"colab-df-convert\" onclick=\"convertToInteractive('df-d3b544fa-60d0-43f3-9d1b-56c3560de55f')\"\n",
              "              title=\"Convert this dataframe to an interactive table.\"\n",
              "              style=\"display:none;\">\n",
              "        \n",
              "  <svg xmlns=\"http://www.w3.org/2000/svg\" height=\"24px\"viewBox=\"0 0 24 24\"\n",
              "       width=\"24px\">\n",
              "    <path d=\"M0 0h24v24H0V0z\" fill=\"none\"/>\n",
              "    <path d=\"M18.56 5.44l.94 2.06.94-2.06 2.06-.94-2.06-.94-.94-2.06-.94 2.06-2.06.94zm-11 1L8.5 8.5l.94-2.06 2.06-.94-2.06-.94L8.5 2.5l-.94 2.06-2.06.94zm10 10l.94 2.06.94-2.06 2.06-.94-2.06-.94-.94-2.06-.94 2.06-2.06.94z\"/><path d=\"M17.41 7.96l-1.37-1.37c-.4-.4-.92-.59-1.43-.59-.52 0-1.04.2-1.43.59L10.3 9.45l-7.72 7.72c-.78.78-.78 2.05 0 2.83L4 21.41c.39.39.9.59 1.41.59.51 0 1.02-.2 1.41-.59l7.78-7.78 2.81-2.81c.8-.78.8-2.07 0-2.86zM5.41 20L4 18.59l7.72-7.72 1.47 1.35L5.41 20z\"/>\n",
              "  </svg>\n",
              "      </button>\n",
              "      \n",
              "  <style>\n",
              "    .colab-df-container {\n",
              "      display:flex;\n",
              "      flex-wrap:wrap;\n",
              "      gap: 12px;\n",
              "    }\n",
              "\n",
              "    .colab-df-convert {\n",
              "      background-color: #E8F0FE;\n",
              "      border: none;\n",
              "      border-radius: 50%;\n",
              "      cursor: pointer;\n",
              "      display: none;\n",
              "      fill: #1967D2;\n",
              "      height: 32px;\n",
              "      padding: 0 0 0 0;\n",
              "      width: 32px;\n",
              "    }\n",
              "\n",
              "    .colab-df-convert:hover {\n",
              "      background-color: #E2EBFA;\n",
              "      box-shadow: 0px 1px 2px rgba(60, 64, 67, 0.3), 0px 1px 3px 1px rgba(60, 64, 67, 0.15);\n",
              "      fill: #174EA6;\n",
              "    }\n",
              "\n",
              "    [theme=dark] .colab-df-convert {\n",
              "      background-color: #3B4455;\n",
              "      fill: #D2E3FC;\n",
              "    }\n",
              "\n",
              "    [theme=dark] .colab-df-convert:hover {\n",
              "      background-color: #434B5C;\n",
              "      box-shadow: 0px 1px 3px 1px rgba(0, 0, 0, 0.15);\n",
              "      filter: drop-shadow(0px 1px 2px rgba(0, 0, 0, 0.3));\n",
              "      fill: #FFFFFF;\n",
              "    }\n",
              "  </style>\n",
              "\n",
              "      <script>\n",
              "        const buttonEl =\n",
              "          document.querySelector('#df-d3b544fa-60d0-43f3-9d1b-56c3560de55f button.colab-df-convert');\n",
              "        buttonEl.style.display =\n",
              "          google.colab.kernel.accessAllowed ? 'block' : 'none';\n",
              "\n",
              "        async function convertToInteractive(key) {\n",
              "          const element = document.querySelector('#df-d3b544fa-60d0-43f3-9d1b-56c3560de55f');\n",
              "          const dataTable =\n",
              "            await google.colab.kernel.invokeFunction('convertToInteractive',\n",
              "                                                     [key], {});\n",
              "          if (!dataTable) return;\n",
              "\n",
              "          const docLinkHtml = 'Like what you see? Visit the ' +\n",
              "            '<a target=\"_blank\" href=https://colab.research.google.com/notebooks/data_table.ipynb>data table notebook</a>'\n",
              "            + ' to learn more about interactive tables.';\n",
              "          element.innerHTML = '';\n",
              "          dataTable['output_type'] = 'display_data';\n",
              "          await google.colab.output.renderOutput(dataTable, element);\n",
              "          const docLink = document.createElement('div');\n",
              "          docLink.innerHTML = docLinkHtml;\n",
              "          element.appendChild(docLink);\n",
              "        }\n",
              "      </script>\n",
              "    </div>\n",
              "  </div>\n",
              "  "
            ]
          },
          "metadata": {},
          "execution_count": 13
        }
      ]
    },
    {
      "cell_type": "markdown",
      "source": [
        "##Total Vendido"
      ],
      "metadata": {
        "id": "fySchfzaH2vN"
      }
    },
    {
      "cell_type": "code",
      "source": [
        "Valor_Pizza=Total_Individual['Valor Pizza'].sum()\n",
        "Valor_Base=Total_Individual['Base'].sum()\n",
        "Valor_Pizza+Valor_Base"
      ],
      "metadata": {
        "colab": {
          "base_uri": "https://localhost:8080/"
        },
        "id": "kq-yYNk69PSp",
        "outputId": "5029b072-5851-44d5-909b-fedd1af99104"
      },
      "execution_count": 14,
      "outputs": [
        {
          "output_type": "execute_result",
          "data": {
            "text/plain": [
              "1236"
            ]
          },
          "metadata": {},
          "execution_count": 14
        }
      ]
    }
  ]
}