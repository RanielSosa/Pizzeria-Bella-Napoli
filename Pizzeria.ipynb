{
  "nbformat": 4,
  "nbformat_minor": 0,
  "metadata": {
    "colab": {
      "provenance": [],
      "mount_file_id": "https://github.com/RanielSosa/Pizzeria-Bella-Napoli/blob/main/Pizzeria.ipynb",
      "authorship_tag": "ABX9TyN/M/HUPwEiQNjm0pgYkzed",
      "include_colab_link": true
    },
    "kernelspec": {
      "name": "python3",
      "display_name": "Python 3"
    },
    "language_info": {
      "name": "python"
    }
  },
  "cells": [
    {
      "cell_type": "markdown",
      "metadata": {
        "id": "view-in-github",
        "colab_type": "text"
      },
      "source": [
        "<a href=\"https://colab.research.google.com/github/RanielSosa/Pizzeria-Bella-Napoli/blob/main/Pizzeria.ipynb\" target=\"_parent\"><img src=\"https://colab.research.google.com/assets/colab-badge.svg\" alt=\"Open In Colab\"/></a>"
      ]
    },
    {
      "cell_type": "code",
      "source": [
        "import datetime\n",
        "\n",
        "x = datetime.datetime.now()\n",
        "print(x)\n",
        "fecharegistro=x.strftime(\"%m/%d/%Y\") \n",
        "print(x.strftime(\"%m/%d/%Y\") )"
      ],
      "metadata": {
        "id": "LEGR8vxejIyw"
      },
      "execution_count": null,
      "outputs": []
    },
    {
      "cell_type": "code",
      "execution_count": null,
      "metadata": {
        "id": "VafBafOcoA00",
        "colab": {
          "base_uri": "https://localhost:8080/"
        },
        "outputId": "42042ef8-04c9-4db3-8392-e507d1484b7d"
      },
      "outputs": [
        {
          "output_type": "stream",
          "name": "stdout",
          "text": [
            "Que tipo de Pizza quiere:\n",
            "1 - Vegetariana\n",
            "2 - No Vegetariana \n",
            "E - Para Salir\n",
            "1\n",
            "Seleccionar el ingrediente Vegetariano adicional:\n",
            "1 - Pimiento\n",
            "2 - Tofu\n",
            "3 - Hongos\n",
            "4 - Margarita\n",
            "1\n",
            "Te gustó nuestr12a pizza?\n",
            "Quieres una pizza adicional?\n",
            "-------------- Nueva Orden. --------------\n",
            "Que tipo de Pizza quiere:\n",
            "1 - Vegetariana\n",
            "2 - No Vegetariana \n",
            "E - Para Salir\n",
            "e\n",
            "  Tipo de Pizza Ingredientes Elegidos Base Valor Pizza       Fecha\n",
            "0   Vegetariana              Pimiento    5           5  11/22/2022\n"
          ]
        }
      ],
      "source": [
        "import pandas as pd\n",
        "df=pd.DataFrame()\n",
        "df = pd.DataFrame(columns=['Tipo de Pizza', 'Ingredientes Elegidos','Base','Valor Pizza','Fecha'])\n",
        "tipodepizza=input(\"Que tipo de Pizza quiere:\\n1 - Vegetariana\\n2 - No Vegetariana \\nE - Para Salir\\n\")\n",
        "resp=tipodepizza.lower()\n",
        "while resp !='e':  \n",
        "    if(tipodepizza=='1'):#Entro a la 121opcion de pizza vegetariana\n",
        "        ingrediente=input(\"Seleccionar el ingrediente Vegetariano adicional:\\n1 - Pimiento\\n2 - Tofu\\n3 - Hongos\\n4 - Margarita\\n\")\n",
        "        if(ingrediente=='1'):\n",
        "          df=df.append({'Tipo de Pizza':'Vegetariana','Ingredientes Elegidos':'Pimiento','Base':5,'Valor Pizza':5,'Fecha':fecharegistro}, ignore_index=True)\n",
        "        if(ingrediente=='2'):\n",
        "          df=df.append({'Tipo de Pizza':'Vegetariana','Ingredientes Elegidos':'Tofu','Base':5,'Valor Pizza':8}, ignore_index=True)      \n",
        "        if(ingrediente=='3'):\n",
        "          df=df.append({'Tipo de Pizza':'Vegetariana','Ingredientes Elegidos':'Hongos','Base':5,'Valor Pizza':7}, ignore_index=True)\n",
        "        if(ingrediente=='4'):\n",
        "          df=df.append({'Tipo de Pizza':'Vegetariana','Ingredientes Elegidos':'Margarita','Base':5,'Valor Pizza':12}, ignore_index=True)  \n",
        "\n",
        "    if(tipodepizza=='2'): #Entro a la opcion de pizza no vegetariana\n",
        "        ingrediente=input(\"Seleccionar el ingrediente No Vegetariano adicional:\\n1 - Peperoni\\n2 - Jamón\\n3 - Salmon\\n4 - Pollo\\n5 - Mexicana\\n\")\n",
        "        if(ingrediente=='1'):\n",
        "          df=df.append({'Tipo de Pizza':'No Vegetariana','Ingredientes Elegidos':'Peperoni','Base':5,'Valor Pizza':3}, ignore_index=True)\n",
        "        if(ingrediente=='2'):\n",
        "          df=df.append({'Tipo de Pizza':'No Vegetariana','Ingredientes Elegidos':'Jamón','Base':5,'Valor Pizza':6}, ignore_index=True)\n",
        "        if(ingrediente=='3'):\n",
        "          df=df.append({'Tipo de Pizza':'No Vegetariana','Ingredientes Elegidos':'Salmon','Base':5,'Valor Pizza':3}, ignore_index=True)        \n",
        "        if(ingrediente=='4'):\n",
        "          df=df.append({'Tipo de Pizza':'No Vegetariana','Ingredientes Elegidos':'Pollo','Base':5,'Valor Pizza':10}, ignore_index=True)        \n",
        "        if(ingrediente=='5'):\n",
        "          df=df.append({'Tipo de Pizza':'No Vegetariana','Ingredientes Elegidos':'Mexicana','Base':5,'Valor Pizza':12}, ignore_index=True)\n",
        "          \n",
        "    print(\"Te gustó nuestr12a pizza?\\nQuieres una pizza adicional?\\n-------------- Nueva Orden. --------------\")\n",
        "    tipodepizza=input(\"Que tipo de Pizza quiere:\\n1 - Vegetariana\\n2 - No Vegetariana \\nE - Para Salir\\n\")\n",
        "    resp=tipodepizza.lower()\n",
        "\n",
        "print(df)"
      ]
    },
    {
      "cell_type": "code",
      "source": [
        "# Export DataFrame to csv File\n",
        "df.to_csv(path_or_buf='/content/drive/MyDrive/Colab Notebooks/Docs/PizzeriaCompras.csv',index = False)"
      ],
      "metadata": {
        "id": "B9cCGcngduEA"
      },
      "execution_count": null,
      "outputs": []
    },
    {
      "cell_type": "code",
      "source": [
        "import pandas as pd\n",
        "ruta='/content/drive/MyDrive/Colab Notebooks/Docs/PizzeriaCompras.csv'\n",
        "df=pd.read_csv(ruta)"
      ],
      "metadata": {
        "id": "bc_bx56secYO"
      },
      "execution_count": null,
      "outputs": []
    },
    {
      "cell_type": "code",
      "source": [
        "df"
      ],
      "metadata": {
        "id": "bBWjRHv5-FYZ"
      },
      "execution_count": null,
      "outputs": []
    },
    {
      "cell_type": "code",
      "source": [
        "Cantidad_Vendida=df.groupby(['Tipo de Pizza','Ingredientes Elegidos'])[['Valor Pizza']].count()\n",
        "Total_Individual=df.groupby(['Tipo de Pizza','Ingredientes Elegidos'])[['Valor Pizza','Base']].sum()\n"
      ],
      "metadata": {
        "id": "AfW0QyOyvGIU"
      },
      "execution_count": null,
      "outputs": []
    },
    {
      "cell_type": "markdown",
      "source": [
        "##Pizzas mas vendidas"
      ],
      "metadata": {
        "id": "jGor5yvyHmyz"
      }
    },
    {
      "cell_type": "code",
      "source": [
        "sorteado=Cantidad_Vendida.sort_values(\"Valor Pizza\", ascending=False)\n",
        "sorteado"
      ],
      "metadata": {
        "colab": {
          "base_uri": "https://localhost:8080/",
          "height": 363
        },
        "id": "17l1sHawEwJm",
        "outputId": "0b1da74c-538a-4825-c863-4e95ee70e4f8"
      },
      "execution_count": null,
      "outputs": [
        {
          "output_type": "execute_result",
          "data": {
            "text/plain": [
              "                                      Valor Pizza\n",
              "Tipo de Pizza  Ingredientes Elegidos             \n",
              "No Vegetariana Jamón                           21\n",
              "               Peperoni                        21\n",
              "Vegetariana    Tofu                            16\n",
              "No Vegetariana Salmon                          14\n",
              "Vegetariana    Hongos                          13\n",
              "               Margarita                        9\n",
              "               Pimiento                         9\n",
              "No Vegetariana Mexicana                         4\n",
              "               Pollo                            4"
            ],
            "text/html": [
              "\n",
              "  <div id=\"df-00c771bb-1892-427f-bf16-755f3c1dffe2\">\n",
              "    <div class=\"colab-df-container\">\n",
              "      <div>\n",
              "<style scoped>\n",
              "    .dataframe tbody tr th:only-of-type {\n",
              "        vertical-align: middle;\n",
              "    }\n",
              "\n",
              "    .dataframe tbody tr th {\n",
              "        vertical-align: top;\n",
              "    }\n",
              "\n",
              "    .dataframe thead th {\n",
              "        text-align: right;\n",
              "    }\n",
              "</style>\n",
              "<table border=\"1\" class=\"dataframe\">\n",
              "  <thead>\n",
              "    <tr style=\"text-align: right;\">\n",
              "      <th></th>\n",
              "      <th></th>\n",
              "      <th>Valor Pizza</th>\n",
              "    </tr>\n",
              "    <tr>\n",
              "      <th>Tipo de Pizza</th>\n",
              "      <th>Ingredientes Elegidos</th>\n",
              "      <th></th>\n",
              "    </tr>\n",
              "  </thead>\n",
              "  <tbody>\n",
              "    <tr>\n",
              "      <th rowspan=\"2\" valign=\"top\">No Vegetariana</th>\n",
              "      <th>Jamón</th>\n",
              "      <td>21</td>\n",
              "    </tr>\n",
              "    <tr>\n",
              "      <th>Peperoni</th>\n",
              "      <td>21</td>\n",
              "    </tr>\n",
              "    <tr>\n",
              "      <th>Vegetariana</th>\n",
              "      <th>Tofu</th>\n",
              "      <td>16</td>\n",
              "    </tr>\n",
              "    <tr>\n",
              "      <th>No Vegetariana</th>\n",
              "      <th>Salmon</th>\n",
              "      <td>14</td>\n",
              "    </tr>\n",
              "    <tr>\n",
              "      <th rowspan=\"3\" valign=\"top\">Vegetariana</th>\n",
              "      <th>Hongos</th>\n",
              "      <td>13</td>\n",
              "    </tr>\n",
              "    <tr>\n",
              "      <th>Margarita</th>\n",
              "      <td>9</td>\n",
              "    </tr>\n",
              "    <tr>\n",
              "      <th>Pimiento</th>\n",
              "      <td>9</td>\n",
              "    </tr>\n",
              "    <tr>\n",
              "      <th rowspan=\"2\" valign=\"top\">No Vegetariana</th>\n",
              "      <th>Mexicana</th>\n",
              "      <td>4</td>\n",
              "    </tr>\n",
              "    <tr>\n",
              "      <th>Pollo</th>\n",
              "      <td>4</td>\n",
              "    </tr>\n",
              "  </tbody>\n",
              "</table>\n",
              "</div>\n",
              "      <button class=\"colab-df-convert\" onclick=\"convertToInteractive('df-00c771bb-1892-427f-bf16-755f3c1dffe2')\"\n",
              "              title=\"Convert this dataframe to an interactive table.\"\n",
              "              style=\"display:none;\">\n",
              "        \n",
              "  <svg xmlns=\"http://www.w3.org/2000/svg\" height=\"24px\"viewBox=\"0 0 24 24\"\n",
              "       width=\"24px\">\n",
              "    <path d=\"M0 0h24v24H0V0z\" fill=\"none\"/>\n",
              "    <path d=\"M18.56 5.44l.94 2.06.94-2.06 2.06-.94-2.06-.94-.94-2.06-.94 2.06-2.06.94zm-11 1L8.5 8.5l.94-2.06 2.06-.94-2.06-.94L8.5 2.5l-.94 2.06-2.06.94zm10 10l.94 2.06.94-2.06 2.06-.94-2.06-.94-.94-2.06-.94 2.06-2.06.94z\"/><path d=\"M17.41 7.96l-1.37-1.37c-.4-.4-.92-.59-1.43-.59-.52 0-1.04.2-1.43.59L10.3 9.45l-7.72 7.72c-.78.78-.78 2.05 0 2.83L4 21.41c.39.39.9.59 1.41.59.51 0 1.02-.2 1.41-.59l7.78-7.78 2.81-2.81c.8-.78.8-2.07 0-2.86zM5.41 20L4 18.59l7.72-7.72 1.47 1.35L5.41 20z\"/>\n",
              "  </svg>\n",
              "      </button>\n",
              "      \n",
              "  <style>\n",
              "    .colab-df-container {\n",
              "      display:flex;\n",
              "      flex-wrap:wrap;\n",
              "      gap: 12px;\n",
              "    }\n",
              "\n",
              "    .colab-df-convert {\n",
              "      background-color: #E8F0FE;\n",
              "      border: none;\n",
              "      border-radius: 50%;\n",
              "      cursor: pointer;\n",
              "      display: none;\n",
              "      fill: #1967D2;\n",
              "      height: 32px;\n",
              "      padding: 0 0 0 0;\n",
              "      width: 32px;\n",
              "    }\n",
              "\n",
              "    .colab-df-convert:hover {\n",
              "      background-color: #E2EBFA;\n",
              "      box-shadow: 0px 1px 2px rgba(60, 64, 67, 0.3), 0px 1px 3px 1px rgba(60, 64, 67, 0.15);\n",
              "      fill: #174EA6;\n",
              "    }\n",
              "\n",
              "    [theme=dark] .colab-df-convert {\n",
              "      background-color: #3B4455;\n",
              "      fill: #D2E3FC;\n",
              "    }\n",
              "\n",
              "    [theme=dark] .colab-df-convert:hover {\n",
              "      background-color: #434B5C;\n",
              "      box-shadow: 0px 1px 3px 1px rgba(0, 0, 0, 0.15);\n",
              "      filter: drop-shadow(0px 1px 2px rgba(0, 0, 0, 0.3));\n",
              "      fill: #FFFFFF;\n",
              "    }\n",
              "  </style>\n",
              "\n",
              "      <script>\n",
              "        const buttonEl =\n",
              "          document.querySelector('#df-00c771bb-1892-427f-bf16-755f3c1dffe2 button.colab-df-convert');\n",
              "        buttonEl.style.display =\n",
              "          google.colab.kernel.accessAllowed ? 'block' : 'none';\n",
              "\n",
              "        async function convertToInteractive(key) {\n",
              "          const element = document.querySelector('#df-00c771bb-1892-427f-bf16-755f3c1dffe2');\n",
              "          const dataTable =\n",
              "            await google.colab.kernel.invokeFunction('convertToInteractive',\n",
              "                                                     [key], {});\n",
              "          if (!dataTable) return;\n",
              "\n",
              "          const docLinkHtml = 'Like what you see? Visit the ' +\n",
              "            '<a target=\"_blank\" href=https://colab.research.google.com/notebooks/data_table.ipynb>data table notebook</a>'\n",
              "            + ' to learn more about interactive tables.';\n",
              "          element.innerHTML = '';\n",
              "          dataTable['output_type'] = 'display_data';\n",
              "          await google.colab.output.renderOutput(dataTable, element);\n",
              "          const docLink = document.createElement('div');\n",
              "          docLink.innerHTML = docLinkHtml;\n",
              "          element.appendChild(docLink);\n",
              "        }\n",
              "      </script>\n",
              "    </div>\n",
              "  </div>\n",
              "  "
            ]
          },
          "metadata": {},
          "execution_count": 165
        }
      ]
    },
    {
      "cell_type": "markdown",
      "source": [
        "##Total Vendido"
      ],
      "metadata": {
        "id": "fySchfzaH2vN"
      }
    },
    {
      "cell_type": "code",
      "source": [
        "Valor_Pizza=Total_Individual['Valor Pizza'].sum()\n",
        "Valor_Base=Total_Individual['Base'].sum()\n",
        "Valor_Pizza+Valor_Base"
      ],
      "metadata": {
        "colab": {
          "base_uri": "https://localhost:8080/"
        },
        "id": "kq-yYNk69PSp",
        "outputId": "6dc3e256-0c5c-4582-8ff8-580a37f3f270"
      },
      "execution_count": null,
      "outputs": [
        {
          "output_type": "execute_result",
          "data": {
            "text/plain": [
              "1246"
            ]
          },
          "metadata": {},
          "execution_count": 154
        }
      ]
    },
    {
      "cell_type": "code",
      "source": [],
      "metadata": {
        "id": "njFxaHrVG-eF",
        "outputId": "419e6bee-db52-434d-da61-93a4a9a1218d",
        "colab": {
          "base_uri": "https://localhost:8080/",
          "height": 269
        }
      },
      "execution_count": null,
      "outputs": [
        {
          "output_type": "execute_result",
          "data": {
            "text/plain": [
              "                        Base                              Valor Pizza  \\\n",
              "Tipo de Pizza No Vegetariana Vegetariana Total Vendido No Vegetariana   \n",
              "Fecha                                                                   \n",
              "11/16/2022                90          65           155             75   \n",
              "11/18/2022                90          50           140            101   \n",
              "11/20/2022                50          60           110             42   \n",
              "11/22/2022                90          60           150            101   \n",
              "Total Vendido            320         235           555            319   \n",
              "\n",
              "                                         \n",
              "Tipo de Pizza Vegetariana Total Vendido  \n",
              "Fecha                                    \n",
              "11/16/2022            106           181  \n",
              "11/18/2022             82           183  \n",
              "11/20/2022             92           134  \n",
              "11/22/2022             92           193  \n",
              "Total Vendido         372           691  "
            ],
            "text/html": [
              "\n",
              "  <div id=\"df-301a403d-3cfe-428e-880e-c22977cfb4ea\">\n",
              "    <div class=\"colab-df-container\">\n",
              "      <div>\n",
              "<style scoped>\n",
              "    .dataframe tbody tr th:only-of-type {\n",
              "        vertical-align: middle;\n",
              "    }\n",
              "\n",
              "    .dataframe tbody tr th {\n",
              "        vertical-align: top;\n",
              "    }\n",
              "\n",
              "    .dataframe thead tr th {\n",
              "        text-align: left;\n",
              "    }\n",
              "\n",
              "    .dataframe thead tr:last-of-type th {\n",
              "        text-align: right;\n",
              "    }\n",
              "</style>\n",
              "<table border=\"1\" class=\"dataframe\">\n",
              "  <thead>\n",
              "    <tr>\n",
              "      <th></th>\n",
              "      <th colspan=\"3\" halign=\"left\">Base</th>\n",
              "      <th colspan=\"3\" halign=\"left\">Valor Pizza</th>\n",
              "    </tr>\n",
              "    <tr>\n",
              "      <th>Tipo de Pizza</th>\n",
              "      <th>No Vegetariana</th>\n",
              "      <th>Vegetariana</th>\n",
              "      <th>Total Vendido</th>\n",
              "      <th>No Vegetariana</th>\n",
              "      <th>Vegetariana</th>\n",
              "      <th>Total Vendido</th>\n",
              "    </tr>\n",
              "    <tr>\n",
              "      <th>Fecha</th>\n",
              "      <th></th>\n",
              "      <th></th>\n",
              "      <th></th>\n",
              "      <th></th>\n",
              "      <th></th>\n",
              "      <th></th>\n",
              "    </tr>\n",
              "  </thead>\n",
              "  <tbody>\n",
              "    <tr>\n",
              "      <th>11/16/2022</th>\n",
              "      <td>90</td>\n",
              "      <td>65</td>\n",
              "      <td>155</td>\n",
              "      <td>75</td>\n",
              "      <td>106</td>\n",
              "      <td>181</td>\n",
              "    </tr>\n",
              "    <tr>\n",
              "      <th>11/18/2022</th>\n",
              "      <td>90</td>\n",
              "      <td>50</td>\n",
              "      <td>140</td>\n",
              "      <td>101</td>\n",
              "      <td>82</td>\n",
              "      <td>183</td>\n",
              "    </tr>\n",
              "    <tr>\n",
              "      <th>11/20/2022</th>\n",
              "      <td>50</td>\n",
              "      <td>60</td>\n",
              "      <td>110</td>\n",
              "      <td>42</td>\n",
              "      <td>92</td>\n",
              "      <td>134</td>\n",
              "    </tr>\n",
              "    <tr>\n",
              "      <th>11/22/2022</th>\n",
              "      <td>90</td>\n",
              "      <td>60</td>\n",
              "      <td>150</td>\n",
              "      <td>101</td>\n",
              "      <td>92</td>\n",
              "      <td>193</td>\n",
              "    </tr>\n",
              "    <tr>\n",
              "      <th>Total Vendido</th>\n",
              "      <td>320</td>\n",
              "      <td>235</td>\n",
              "      <td>555</td>\n",
              "      <td>319</td>\n",
              "      <td>372</td>\n",
              "      <td>691</td>\n",
              "    </tr>\n",
              "  </tbody>\n",
              "</table>\n",
              "</div>\n",
              "      <button class=\"colab-df-convert\" onclick=\"convertToInteractive('df-301a403d-3cfe-428e-880e-c22977cfb4ea')\"\n",
              "              title=\"Convert this dataframe to an interactive table.\"\n",
              "              style=\"display:none;\">\n",
              "        \n",
              "  <svg xmlns=\"http://www.w3.org/2000/svg\" height=\"24px\"viewBox=\"0 0 24 24\"\n",
              "       width=\"24px\">\n",
              "    <path d=\"M0 0h24v24H0V0z\" fill=\"none\"/>\n",
              "    <path d=\"M18.56 5.44l.94 2.06.94-2.06 2.06-.94-2.06-.94-.94-2.06-.94 2.06-2.06.94zm-11 1L8.5 8.5l.94-2.06 2.06-.94-2.06-.94L8.5 2.5l-.94 2.06-2.06.94zm10 10l.94 2.06.94-2.06 2.06-.94-2.06-.94-.94-2.06-.94 2.06-2.06.94z\"/><path d=\"M17.41 7.96l-1.37-1.37c-.4-.4-.92-.59-1.43-.59-.52 0-1.04.2-1.43.59L10.3 9.45l-7.72 7.72c-.78.78-.78 2.05 0 2.83L4 21.41c.39.39.9.59 1.41.59.51 0 1.02-.2 1.41-.59l7.78-7.78 2.81-2.81c.8-.78.8-2.07 0-2.86zM5.41 20L4 18.59l7.72-7.72 1.47 1.35L5.41 20z\"/>\n",
              "  </svg>\n",
              "      </button>\n",
              "      \n",
              "  <style>\n",
              "    .colab-df-container {\n",
              "      display:flex;\n",
              "      flex-wrap:wrap;\n",
              "      gap: 12px;\n",
              "    }\n",
              "\n",
              "    .colab-df-convert {\n",
              "      background-color: #E8F0FE;\n",
              "      border: none;\n",
              "      border-radius: 50%;\n",
              "      cursor: pointer;\n",
              "      display: none;\n",
              "      fill: #1967D2;\n",
              "      height: 32px;\n",
              "      padding: 0 0 0 0;\n",
              "      width: 32px;\n",
              "    }\n",
              "\n",
              "    .colab-df-convert:hover {\n",
              "      background-color: #E2EBFA;\n",
              "      box-shadow: 0px 1px 2px rgba(60, 64, 67, 0.3), 0px 1px 3px 1px rgba(60, 64, 67, 0.15);\n",
              "      fill: #174EA6;\n",
              "    }\n",
              "\n",
              "    [theme=dark] .colab-df-convert {\n",
              "      background-color: #3B4455;\n",
              "      fill: #D2E3FC;\n",
              "    }\n",
              "\n",
              "    [theme=dark] .colab-df-convert:hover {\n",
              "      background-color: #434B5C;\n",
              "      box-shadow: 0px 1px 3px 1px rgba(0, 0, 0, 0.15);\n",
              "      filter: drop-shadow(0px 1px 2px rgba(0, 0, 0, 0.3));\n",
              "      fill: #FFFFFF;\n",
              "    }\n",
              "  </style>\n",
              "\n",
              "      <script>\n",
              "        const buttonEl =\n",
              "          document.querySelector('#df-301a403d-3cfe-428e-880e-c22977cfb4ea button.colab-df-convert');\n",
              "        buttonEl.style.display =\n",
              "          google.colab.kernel.accessAllowed ? 'block' : 'none';\n",
              "\n",
              "        async function convertToInteractive(key) {\n",
              "          const element = document.querySelector('#df-301a403d-3cfe-428e-880e-c22977cfb4ea');\n",
              "          const dataTable =\n",
              "            await google.colab.kernel.invokeFunction('convertToInteractive',\n",
              "                                                     [key], {});\n",
              "          if (!dataTable) return;\n",
              "\n",
              "          const docLinkHtml = 'Like what you see? Visit the ' +\n",
              "            '<a target=\"_blank\" href=https://colab.research.google.com/notebooks/data_table.ipynb>data table notebook</a>'\n",
              "            + ' to learn more about interactive tables.';\n",
              "          element.innerHTML = '';\n",
              "          dataTable['output_type'] = 'display_data';\n",
              "          await google.colab.output.renderOutput(dataTable, element);\n",
              "          const docLink = document.createElement('div');\n",
              "          docLink.innerHTML = docLinkHtml;\n",
              "          element.appendChild(docLink);\n",
              "        }\n",
              "      </script>\n",
              "    </div>\n",
              "  </div>\n",
              "  "
            ]
          },
          "metadata": {},
          "execution_count": 151
        }
      ]
    },
    {
      "cell_type": "markdown",
      "source": [
        "##Graficos"
      ],
      "metadata": {
        "id": "vGpYI-NGHBOy"
      }
    },
    {
      "cell_type": "markdown",
      "source": [
        "para poder tener un grafico que me brinde informacion y que pueda servir para facilitar la toma de desiciones, decidí ponerle fecha a las entradas y asi poder ver en un lapso de tiempo cuales pizzas son las mas vendidas en que dias y como mejorar las ventas de las pizzas menos vendidas en esos dias que estan en bajas. \n",
        "\n",
        "determinando el dia de menos entrada y el tipo de pizza el dueno de la pizza podria o poner especiales los dias de menor venta para mover el inventario o reducir la compra de inventario los dias donde menos se vende una pizza en especifico.\n"
      ],
      "metadata": {
        "id": "xQUPzB08DEKQ"
      }
    },
    {
      "cell_type": "code",
      "source": [
        "import pandas as pd\n",
        "import numpy as np"
      ],
      "metadata": {
        "id": "6jc7kUth9bt4"
      },
      "execution_count": null,
      "outputs": []
    },
    {
      "cell_type": "code",
      "source": [
        "tabla_pivot=pd.pivot_table(df,values='Valor Pizza',index=['Fecha'],columns=['Tipo de Pizza'], fill_value=0,aggfunc=np.sum,margins=True, margins_name='Total Vendido')\n",
        "tabla_pivot"
      ],
      "metadata": {
        "id": "GtLbErJv9Lpv",
        "outputId": "afad5cab-c73e-4f04-cc3e-4da87265cabd",
        "colab": {
          "base_uri": "https://localhost:8080/",
          "height": 237
        }
      },
      "execution_count": null,
      "outputs": [
        {
          "output_type": "execute_result",
          "data": {
            "text/plain": [
              "Tipo de Pizza  No Vegetariana  Vegetariana  Total Vendido\n",
              "Fecha                                                    \n",
              "11/16/2022                 75          106            181\n",
              "11/18/2022                101           82            183\n",
              "11/20/2022                 42           92            134\n",
              "11/22/2022                101           92            193\n",
              "Total Vendido             319          372            691"
            ],
            "text/html": [
              "\n",
              "  <div id=\"df-c1a295e0-0383-475a-80b5-8cb7373d3ecc\">\n",
              "    <div class=\"colab-df-container\">\n",
              "      <div>\n",
              "<style scoped>\n",
              "    .dataframe tbody tr th:only-of-type {\n",
              "        vertical-align: middle;\n",
              "    }\n",
              "\n",
              "    .dataframe tbody tr th {\n",
              "        vertical-align: top;\n",
              "    }\n",
              "\n",
              "    .dataframe thead th {\n",
              "        text-align: right;\n",
              "    }\n",
              "</style>\n",
              "<table border=\"1\" class=\"dataframe\">\n",
              "  <thead>\n",
              "    <tr style=\"text-align: right;\">\n",
              "      <th>Tipo de Pizza</th>\n",
              "      <th>No Vegetariana</th>\n",
              "      <th>Vegetariana</th>\n",
              "      <th>Total Vendido</th>\n",
              "    </tr>\n",
              "    <tr>\n",
              "      <th>Fecha</th>\n",
              "      <th></th>\n",
              "      <th></th>\n",
              "      <th></th>\n",
              "    </tr>\n",
              "  </thead>\n",
              "  <tbody>\n",
              "    <tr>\n",
              "      <th>11/16/2022</th>\n",
              "      <td>75</td>\n",
              "      <td>106</td>\n",
              "      <td>181</td>\n",
              "    </tr>\n",
              "    <tr>\n",
              "      <th>11/18/2022</th>\n",
              "      <td>101</td>\n",
              "      <td>82</td>\n",
              "      <td>183</td>\n",
              "    </tr>\n",
              "    <tr>\n",
              "      <th>11/20/2022</th>\n",
              "      <td>42</td>\n",
              "      <td>92</td>\n",
              "      <td>134</td>\n",
              "    </tr>\n",
              "    <tr>\n",
              "      <th>11/22/2022</th>\n",
              "      <td>101</td>\n",
              "      <td>92</td>\n",
              "      <td>193</td>\n",
              "    </tr>\n",
              "    <tr>\n",
              "      <th>Total Vendido</th>\n",
              "      <td>319</td>\n",
              "      <td>372</td>\n",
              "      <td>691</td>\n",
              "    </tr>\n",
              "  </tbody>\n",
              "</table>\n",
              "</div>\n",
              "      <button class=\"colab-df-convert\" onclick=\"convertToInteractive('df-c1a295e0-0383-475a-80b5-8cb7373d3ecc')\"\n",
              "              title=\"Convert this dataframe to an interactive table.\"\n",
              "              style=\"display:none;\">\n",
              "        \n",
              "  <svg xmlns=\"http://www.w3.org/2000/svg\" height=\"24px\"viewBox=\"0 0 24 24\"\n",
              "       width=\"24px\">\n",
              "    <path d=\"M0 0h24v24H0V0z\" fill=\"none\"/>\n",
              "    <path d=\"M18.56 5.44l.94 2.06.94-2.06 2.06-.94-2.06-.94-.94-2.06-.94 2.06-2.06.94zm-11 1L8.5 8.5l.94-2.06 2.06-.94-2.06-.94L8.5 2.5l-.94 2.06-2.06.94zm10 10l.94 2.06.94-2.06 2.06-.94-2.06-.94-.94-2.06-.94 2.06-2.06.94z\"/><path d=\"M17.41 7.96l-1.37-1.37c-.4-.4-.92-.59-1.43-.59-.52 0-1.04.2-1.43.59L10.3 9.45l-7.72 7.72c-.78.78-.78 2.05 0 2.83L4 21.41c.39.39.9.59 1.41.59.51 0 1.02-.2 1.41-.59l7.78-7.78 2.81-2.81c.8-.78.8-2.07 0-2.86zM5.41 20L4 18.59l7.72-7.72 1.47 1.35L5.41 20z\"/>\n",
              "  </svg>\n",
              "      </button>\n",
              "      \n",
              "  <style>\n",
              "    .colab-df-container {\n",
              "      display:flex;\n",
              "      flex-wrap:wrap;\n",
              "      gap: 12px;\n",
              "    }\n",
              "\n",
              "    .colab-df-convert {\n",
              "      background-color: #E8F0FE;\n",
              "      border: none;\n",
              "      border-radius: 50%;\n",
              "      cursor: pointer;\n",
              "      display: none;\n",
              "      fill: #1967D2;\n",
              "      height: 32px;\n",
              "      padding: 0 0 0 0;\n",
              "      width: 32px;\n",
              "    }\n",
              "\n",
              "    .colab-df-convert:hover {\n",
              "      background-color: #E2EBFA;\n",
              "      box-shadow: 0px 1px 2px rgba(60, 64, 67, 0.3), 0px 1px 3px 1px rgba(60, 64, 67, 0.15);\n",
              "      fill: #174EA6;\n",
              "    }\n",
              "\n",
              "    [theme=dark] .colab-df-convert {\n",
              "      background-color: #3B4455;\n",
              "      fill: #D2E3FC;\n",
              "    }\n",
              "\n",
              "    [theme=dark] .colab-df-convert:hover {\n",
              "      background-color: #434B5C;\n",
              "      box-shadow: 0px 1px 3px 1px rgba(0, 0, 0, 0.15);\n",
              "      filter: drop-shadow(0px 1px 2px rgba(0, 0, 0, 0.3));\n",
              "      fill: #FFFFFF;\n",
              "    }\n",
              "  </style>\n",
              "\n",
              "      <script>\n",
              "        const buttonEl =\n",
              "          document.querySelector('#df-c1a295e0-0383-475a-80b5-8cb7373d3ecc button.colab-df-convert');\n",
              "        buttonEl.style.display =\n",
              "          google.colab.kernel.accessAllowed ? 'block' : 'none';\n",
              "\n",
              "        async function convertToInteractive(key) {\n",
              "          const element = document.querySelector('#df-c1a295e0-0383-475a-80b5-8cb7373d3ecc');\n",
              "          const dataTable =\n",
              "            await google.colab.kernel.invokeFunction('convertToInteractive',\n",
              "                                                     [key], {});\n",
              "          if (!dataTable) return;\n",
              "\n",
              "          const docLinkHtml = 'Like what you see? Visit the ' +\n",
              "            '<a target=\"_blank\" href=https://colab.research.google.com/notebooks/data_table.ipynb>data table notebook</a>'\n",
              "            + ' to learn more about interactive tables.';\n",
              "          element.innerHTML = '';\n",
              "          dataTable['output_type'] = 'display_data';\n",
              "          await google.colab.output.renderOutput(dataTable, element);\n",
              "          const docLink = document.createElement('div');\n",
              "          docLink.innerHTML = docLinkHtml;\n",
              "          element.appendChild(docLink);\n",
              "        }\n",
              "      </script>\n",
              "    </div>\n",
              "  </div>\n",
              "  "
            ]
          },
          "metadata": {},
          "execution_count": 146
        }
      ]
    },
    {
      "cell_type": "code",
      "source": [
        "tabla_pivot.plot()"
      ],
      "metadata": {
        "id": "Ul8HWw---diZ",
        "outputId": "63e20e05-af05-45d2-ebf7-4dc701b5b3e4",
        "colab": {
          "base_uri": "https://localhost:8080/",
          "height": 379
        }
      },
      "execution_count": null,
      "outputs": [
        {
          "output_type": "execute_result",
          "data": {
            "text/plain": [
              "<matplotlib.axes._subplots.AxesSubplot at 0x7f6ffff47c10>"
            ]
          },
          "metadata": {},
          "execution_count": 137
        },
        {
          "output_type": "display_data",
          "data": {
            "text/plain": [
              "<Figure size 576x396 with 1 Axes>"
            ],
            "image/png": "[encoded data removed]"
          },
          "metadata": {}
        }
      ]
    }
  ]
}